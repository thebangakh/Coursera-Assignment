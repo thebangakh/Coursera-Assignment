{
 "cells": [
  {
   "cell_type": "markdown",
   "metadata": {
    "collapsed": true
   },
   "source": [
    "# My Jupyter Notebook on IBM Watson Studio #"
   ]
  },
  {
   "cell_type": "markdown",
   "metadata": {},
   "source": [
    "**AAMIR SOHAIL**\n",
    "\n",
    "I'm currently doing job at Huawei as an Electronic Engineer."
   ]
  },
  {
   "cell_type": "markdown",
   "metadata": {},
   "source": [
    "*I'm interested in Data Science because it is the emerging field in tech industry and an individual is always hoping to push his limits in order to stand out compare to other people. The course will help me become competative in job industry and will also help me in securing admission in Masters if I intended to do it in the future in the same field*"
   ]
  },
  {
   "cell_type": "markdown",
   "metadata": {},
   "source": [
    "***My code is simply going to add up numbers from 1 to 9***"
   ]
  },
  {
   "cell_type": "code",
   "execution_count": 5,
   "metadata": {},
   "outputs": [
    {
     "name": "stdout",
     "output_type": "stream",
     "text": [
      "Total sum is 45\n"
     ]
    }
   ],
   "source": [
    "total = 0\n",
    "for num in range(10):\n",
    "      total += num\n",
    "print('Total sum is', total)        "
   ]
  },
  {
   "cell_type": "markdown",
   "metadata": {},
   "source": [
    "> horizontal rule\n",
    "- bulleted list\n",
    "1. Numbered list"
   ]
  }
 ],
 "metadata": {
  "celltoolbar": "Raw Cell Format",
  "kernelspec": {
   "display_name": "Python 3.9",
   "language": "python",
   "name": "python3"
  },
  "language_info": {
   "codemirror_mode": {
    "name": "ipython",
    "version": 3
   },
   "file_extension": ".py",
   "mimetype": "text/x-python",
   "name": "python",
   "nbconvert_exporter": "python",
   "pygments_lexer": "ipython3",
   "version": "3.9.12"
  }
 },
 "nbformat": 4,
 "nbformat_minor": 1
}
